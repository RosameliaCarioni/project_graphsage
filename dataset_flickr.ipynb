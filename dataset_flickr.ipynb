{
 "cells": [
  {
   "cell_type": "code",
   "execution_count": 1,
   "metadata": {},
   "outputs": [],
   "source": [
    "import torch\n",
    "from torch_geometric.data import Data\n",
    "import pandas as pd"
   ]
  },
  {
   "cell_type": "code",
   "execution_count": 2,
   "metadata": {},
   "outputs": [],
   "source": [
    "# Function to read the dataset\n",
    "def read_dataset_arizona_university(nodes_path, edges_path, groups_path, group_edges_path):\n",
    "    # Read the node, edge, and group data\n",
    "    nodes = pd.read_csv(nodes_path, header=None)\n",
    "    edges = pd.read_csv(edges_path, header=None)\n",
    "    groups = pd.read_csv(groups_path, header=None)\n",
    "    group_edges = pd.read_csv(group_edges_path, header=None)\n",
    "\n",
    "    # Prepare the edge index for PyTorch Geometric\n",
    "    edge_index = torch.tensor(edges.values, dtype=torch.long).t().contiguous()\n",
    "\n",
    "    # Assuming node features are not available; using one-hot encoding as features\n",
    "    node_features = torch.eye(len(nodes))\n",
    "\n",
    "    # Prepare the group labels (one-hot encoded)\n",
    "    group_labels = torch.zeros((len(nodes), len(groups)))\n",
    "    for _, (node_id, group_id) in group_edges.iterrows():\n",
    "        group_labels[node_id - 1, group_id - 1] = 1  # -1 for zero-based indexing\n",
    "\n",
    "    return node_features, edge_index, group_labels"
   ]
  },
  {
   "cell_type": "code",
   "execution_count": 3,
   "metadata": {},
   "outputs": [],
   "source": [
    "# Paths to your data files\n",
    "nodes_path = 'datasets/Flickr-dataset/data/edges.csv'\n",
    "edges_path = 'datasets/Flickr-dataset/data/edges.csv'\n",
    "groups_path = 'datasets/Flickr-dataset/data/groups.csv'\n",
    "group_edges_path = 'datasets/Flickr-dataset/data/group-edges.csv'"
   ]
  },
  {
   "cell_type": "code",
   "execution_count": 4,
   "metadata": {},
   "outputs": [
    {
     "ename": "",
     "evalue": "",
     "output_type": "error",
     "traceback": [
      "\u001b[1;31mCanceled future for execute_request message before replies were done"
     ]
    },
    {
     "ename": "",
     "evalue": "",
     "output_type": "error",
     "traceback": [
      "\u001b[1;31mThe Kernel crashed while executing code in the the current cell or a previous cell. Please review the code in the cell(s) to identify a possible cause of the failure. Click <a href='https://aka.ms/vscodeJupyterKernelCrash'>here</a> for more info. View Jupyter <a href='command:jupyter.viewOutput'>log</a> for further details."
     ]
    }
   ],
   "source": [
    "# Read the dataset\n",
    "node_features, edge_index, group_labels = read_dataset_arizona_university(nodes_path, edges_path, groups_path, group_edges_path)"
   ]
  },
  {
   "cell_type": "code",
   "execution_count": null,
   "metadata": {},
   "outputs": [],
   "source": [
    "# Create a Data object\n",
    "data = Data(x=node_features, edge_index=edge_index, y=group_labels)\n",
    "\n",
    "# Now you can use the 'data' object with PyTorch Geometric models\n",
    "print(data)"
   ]
  }
 ],
 "metadata": {
  "kernelspec": {
   "display_name": "graph_sage_6",
   "language": "python",
   "name": "python3"
  },
  "language_info": {
   "codemirror_mode": {
    "name": "ipython",
    "version": 3
   },
   "file_extension": ".py",
   "mimetype": "text/x-python",
   "name": "python",
   "nbconvert_exporter": "python",
   "pygments_lexer": "ipython3",
   "version": "3.9.18"
  },
  "orig_nbformat": 4
 },
 "nbformat": 4,
 "nbformat_minor": 2
}
