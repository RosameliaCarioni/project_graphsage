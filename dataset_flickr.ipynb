{
 "cells": [
  {
   "cell_type": "code",
   "execution_count": 1,
   "metadata": {},
   "outputs": [],
   "source": [
    "import torch\n",
    "from torch_geometric.data import Data\n",
    "import pandas as pd\n",
    "import networkx as nx\n",
    "from torch_geometric.utils.convert import from_networkx\n",
    "import numpy as np\n",
    "from sklearn.preprocessing import MultiLabelBinarizer\n",
    "import graphsage_experiments\n",
    "import torch.nn.functional as F"
   ]
  },
  {
   "attachments": {},
   "cell_type": "markdown",
   "metadata": {},
   "source": [
    "# Understanding the Dataset:\n",
    "\n",
    "nodes.csv: It contains a list of node IDs, each representing a unique user on Flickr.\n",
    "\n",
    "groups.csv: Contains group IDs representing various groups within the Flickr community.\n",
    "\n",
    "edges.csv: Consists of pairs of user IDs, each pair representing a friendship link. For example, a line \"1,2\" in this file signifies that the user with ID \"1\" is friends with the user with ID \"2\".\n",
    "\n",
    "group-edges.csv: Each line has two entries; the first entry is a user ID, and the second entry is a group ID. This file maps which users belong to which groups."
   ]
  },
  {
   "cell_type": "code",
   "execution_count": 5,
   "metadata": {},
   "outputs": [],
   "source": [
    "# Paths to data files\n",
    "nodes_path = 'datasets/Flickr-dataset/data/nodes.csv'\n",
    "edges_path = 'datasets/Flickr-dataset/data/edges.csv'\n",
    "groups_path = 'datasets/Flickr-dataset/data/groups.csv'\n",
    "group_edges_path = 'datasets/Flickr-dataset/data/group-edges.csv'"
   ]
  },
  {
   "cell_type": "markdown",
   "metadata": {},
   "source": [
    "# Auxiliary methods"
   ]
  },
  {
   "cell_type": "code",
   "execution_count": 2,
   "metadata": {},
   "outputs": [],
   "source": [
    "def add_masks(data, train_size, val_size, test_size):\n",
    "    \"\"\"Add masks to the data object \n",
    "\n",
    "    Args:\n",
    "        data: torch_geometric.data\n",
    "        train_size: ratio \n",
    "        val_size: ratio\n",
    "        test_size: ratio\n",
    "\n",
    "    Returns:\n",
    "        train mask, validation mask, test mask \n",
    "    \"\"\"\n",
    "    # Ensure the sizes sum up to the number of nodes\n",
    "    assert train_size + val_size + test_size <= data.num_nodes\n",
    "\n",
    "    # Shuffle node indices\n",
    "    node_indices = torch.randperm(data.num_nodes)\n",
    "\n",
    "    # Split indices for train, val, test\n",
    "    train_indices = node_indices[:train_size]\n",
    "    val_indices = node_indices[train_size:train_size + val_size]\n",
    "    test_indices = node_indices[train_size + val_size:]\n",
    "\n",
    "    # Initialize masks\n",
    "    data.train_mask = torch.zeros(data.num_nodes, dtype=torch.bool)\n",
    "    data.val_mask = torch.zeros(data.num_nodes, dtype=torch.bool)\n",
    "    data.test_mask = torch.zeros(data.num_nodes, dtype=torch.bool)\n",
    "\n",
    "    # Assign masks\n",
    "    data.train_mask[train_indices] = True\n",
    "    data.val_mask[val_indices] = True\n",
    "    data.test_mask[test_indices] = True\n",
    "\n",
    "    return data"
   ]
  },
  {
   "cell_type": "code",
   "execution_count": 3,
   "metadata": {},
   "outputs": [],
   "source": [
    "def read_dataset(nodes_path, edges_path, groups_path, group_edges_path):\n",
    "    \"\"\"Read in the data from the csv files and transform it into networkx object \n",
    "\n",
    "    Args:\n",
    "        nodes_path: path to the csv file \n",
    "        edges_path: path to the csv file \n",
    "        groups_path: path to the csv file \n",
    "        group_edges_path: path to the csv \n",
    "            \n",
    "    Returns:\n",
    "        graph, labels or classes to the nodes \n",
    "    \"\"\"\n",
    "    nodes_id = pd.read_csv(nodes_path, header=None, names=['id'])\n",
    "    #groups_id = pd.read_csv(groups_path, header=None, names=['group'])\n",
    "    edges = pd.read_csv(edges_path, header=None, names=['id_1', 'id_2'])\n",
    "    user_group_membership = pd.read_csv(group_edges_path, header=None, names=['id', 'group'])\n",
    "\n",
    "    # Create a graph\n",
    "    G_BC = nx.Graph()\n",
    "\n",
    "    # Add nodes to the graph\n",
    "    #G_BC.add_nodes_from(nodes_id['id'])\n",
    "    for node_id in nodes_id['id']:\n",
    "        G_BC.add_node(node_id, id=node_id)\n",
    "    \n",
    "    # Add edges (friendships) to the graph\n",
    "    G_BC.add_edges_from(edges[['id_1', 'id_2']].values)\n",
    "\n",
    "    # Create a dictionary to store groups for each ID\n",
    "    group_dict = {}\n",
    "\n",
    "    # Populate the group_dict\n",
    "    for _, row in user_group_membership.iterrows():\n",
    "        user_id = row['id']\n",
    "        group_id = row['group']\n",
    "\n",
    "        # Check if the user_id is already in the dictionary\n",
    "        if user_id in group_dict:\n",
    "            group_dict[user_id].append(group_id)\n",
    "        else:\n",
    "            group_dict[user_id] = [group_id]\n",
    "\n",
    "    # Add group labels to the nodes\n",
    "    for user_id, groups in group_dict.items():\n",
    "        nx.set_node_attributes(G_BC, {user_id: groups}, 'y') # 'group belonging'\n",
    "    \n",
    "    # Find and preprocess labels for the graph\n",
    "    labels = []\n",
    "    c = 0 \n",
    "    for n in G_BC.nodes:\n",
    "        l = G_BC.nodes[n].get('y')\n",
    "        labels.append(l)\n",
    "\n",
    "    mlb = MultiLabelBinarizer()\n",
    "    preprocessed_labels = mlb.fit_transform(labels)\n",
    "\n",
    "    return G_BC, preprocessed_labels"
   ]
  },
  {
   "cell_type": "markdown",
   "metadata": {},
   "source": [
    "# Create graph object and transform it to torch_geometric.data"
   ]
  },
  {
   "cell_type": "code",
   "execution_count": 6,
   "metadata": {},
   "outputs": [],
   "source": [
    "graph, labels = read_dataset(nodes_path, edges_path, groups_path, group_edges_path)\n",
    "data = from_networkx(graph)"
   ]
  },
  {
   "cell_type": "code",
   "execution_count": 11,
   "metadata": {},
   "outputs": [],
   "source": [
    "# Add x variable containing the features per node (just id)\n",
    "data.y = torch.from_numpy(labels.astype(float))\n",
    "# Add x variable which contains features \n",
    "node_ids = torch.arange(data.num_nodes).unsqueeze(1)\n",
    "data.x = node_ids.float()"
   ]
  },
  {
   "cell_type": "markdown",
   "metadata": {},
   "source": [
    "# Define hyperparameters"
   ]
  },
  {
   "cell_type": "code",
   "execution_count": 8,
   "metadata": {},
   "outputs": [],
   "source": [
    "learning_rate = 0.0001 # variable to change/play around with for experiments --> 0.0001\n",
    "aggregator = 'mean' # variable to change/play around with for experiments\n",
    "\n",
    "epochs = 10\n",
    "dropout_rate = 0.4\n",
    "normalization = True \n",
    "activation_function = F.relu\n",
    "bias = True\n",
    "batch_size =  512\n",
    "neighborhood_1 = 25\n",
    "neighborhood_2 = 10\n",
    "embedding_dimension = 128\n",
    "hidden_layer = 512"
   ]
  },
  {
   "cell_type": "code",
   "execution_count": 9,
   "metadata": {},
   "outputs": [],
   "source": [
    "number_features, number_nodes = data.num_features, data.x.shape[0]"
   ]
  },
  {
   "cell_type": "markdown",
   "metadata": {},
   "source": [
    "# Train and obtain results"
   ]
  },
  {
   "cell_type": "code",
   "execution_count": 10,
   "metadata": {},
   "outputs": [
    {
     "name": "stdout",
     "output_type": "stream",
     "text": [
      "Node classification \n",
      "Epoch: 000, Accuracy: 0.0000, Total loss: 86.4825, f1_macro: 0.0000, f1_micro:0.0000 \n",
      "Node classification \n",
      "Epoch: 001, Accuracy: 0.0000, Total loss: 85.9784, f1_macro: 0.0000, f1_micro:0.0000 \n"
     ]
    },
    {
     "ename": "KeyboardInterrupt",
     "evalue": "",
     "output_type": "error",
     "traceback": [
      "\u001b[0;31m---------------------------------------------------------------------------\u001b[0m",
      "\u001b[0;31mKeyboardInterrupt\u001b[0m                         Traceback (most recent call last)",
      "Cell \u001b[0;32mIn[10], line 1\u001b[0m\n\u001b[0;32m----> 1\u001b[0m emb_matrix \u001b[39m=\u001b[39m graphsage_experiments\u001b[39m.\u001b[39;49mcompute_embedding_matrix(\n\u001b[1;32m      2\u001b[0m     data \u001b[39m=\u001b[39;49m data,\n\u001b[1;32m      3\u001b[0m     number_features \u001b[39m=\u001b[39;49m number_features,\n\u001b[1;32m      4\u001b[0m     number_nodes \u001b[39m=\u001b[39;49m number_nodes,\n\u001b[1;32m      5\u001b[0m     batch_size \u001b[39m=\u001b[39;49m batch_size,\n\u001b[1;32m      6\u001b[0m     hidden_layer \u001b[39m=\u001b[39;49m hidden_layer, \n\u001b[1;32m      7\u001b[0m     epochs \u001b[39m=\u001b[39;49m epochs, \n\u001b[1;32m      8\u001b[0m     neighborhood_1 \u001b[39m=\u001b[39;49m neighborhood_1,\n\u001b[1;32m      9\u001b[0m     neighborhood_2 \u001b[39m=\u001b[39;49m neighborhood_2,\n\u001b[1;32m     10\u001b[0m     embedding_dimension \u001b[39m=\u001b[39;49m embedding_dimension,\n\u001b[1;32m     11\u001b[0m     learning_rate \u001b[39m=\u001b[39;49m learning_rate,\n\u001b[1;32m     12\u001b[0m     dropout_rate \u001b[39m=\u001b[39;49m dropout_rate,\n\u001b[1;32m     13\u001b[0m     activation_function \u001b[39m=\u001b[39;49m activation_function,\n\u001b[1;32m     14\u001b[0m     aggregator \u001b[39m=\u001b[39;49m aggregator,\n\u001b[1;32m     15\u001b[0m     activation_before_normalization\u001b[39m=\u001b[39;49m \u001b[39mTrue\u001b[39;49;00m,\n\u001b[1;32m     16\u001b[0m     bias\u001b[39m=\u001b[39;49m \u001b[39mTrue\u001b[39;49;00m,\n\u001b[1;32m     17\u001b[0m     normalize \u001b[39m=\u001b[39;49m normalization,\n\u001b[1;32m     18\u001b[0m )\n",
      "File \u001b[0;32m~/University/MSc/1_year/2_period/advanced_ml/project_graphsage/graphsage_experiments.py:185\u001b[0m, in \u001b[0;36mcompute_embedding_matrix\u001b[0;34m(data, number_features, number_nodes, batch_size, hidden_layer, epochs, neighborhood_1, neighborhood_2, embedding_dimension, learning_rate, dropout_rate, activation_function, aggregator, activation_before_normalization, bias, normalize)\u001b[0m\n\u001b[1;32m    183\u001b[0m \u001b[39mfor\u001b[39;00m epoch \u001b[39min\u001b[39;00m \u001b[39mrange\u001b[39m(epochs \u001b[39m+\u001b[39m \u001b[39m1\u001b[39m):\n\u001b[1;32m    184\u001b[0m     start \u001b[39m=\u001b[39m time\u001b[39m.\u001b[39mtime()\n\u001b[0;32m--> 185\u001b[0m     total_loss \u001b[39m=\u001b[39m train(model, device, train_loader, optimizer, number_nodes)\n\u001b[1;32m    187\u001b[0m     model\u001b[39m.\u001b[39meval()\n\u001b[1;32m    188\u001b[0m     embedding_matrix \u001b[39m=\u001b[39m model(data\u001b[39m.\u001b[39mx, data\u001b[39m.\u001b[39medge_index)\u001b[39m.\u001b[39mto(device)\n",
      "File \u001b[0;32m~/University/MSc/1_year/2_period/advanced_ml/project_graphsage/graphsage_experiments.py:40\u001b[0m, in \u001b[0;36mtrain\u001b[0;34m(model, device, train_loader, optimizer, number_nodes)\u001b[0m\n\u001b[1;32m     37\u001b[0m batch \u001b[39m=\u001b[39m batch\u001b[39m.\u001b[39mto(device)\n\u001b[1;32m     38\u001b[0m optimizer\u001b[39m.\u001b[39mzero_grad()\n\u001b[0;32m---> 40\u001b[0m h \u001b[39m=\u001b[39m model(batch\u001b[39m.\u001b[39;49mx, batch\u001b[39m.\u001b[39;49medge_index)\n\u001b[1;32m     41\u001b[0m h_src \u001b[39m=\u001b[39m h[batch\u001b[39m.\u001b[39medge_label_index[\u001b[39m0\u001b[39m]]\n\u001b[1;32m     42\u001b[0m h_dst \u001b[39m=\u001b[39m h[batch\u001b[39m.\u001b[39medge_label_index[\u001b[39m1\u001b[39m]]\n",
      "File \u001b[0;32m~/miniconda3/envs/graph_sage_6/lib/python3.9/site-packages/torch/nn/modules/module.py:1518\u001b[0m, in \u001b[0;36mModule._wrapped_call_impl\u001b[0;34m(self, *args, **kwargs)\u001b[0m\n\u001b[1;32m   1516\u001b[0m     \u001b[39mreturn\u001b[39;00m \u001b[39mself\u001b[39m\u001b[39m.\u001b[39m_compiled_call_impl(\u001b[39m*\u001b[39margs, \u001b[39m*\u001b[39m\u001b[39m*\u001b[39mkwargs)  \u001b[39m# type: ignore[misc]\u001b[39;00m\n\u001b[1;32m   1517\u001b[0m \u001b[39melse\u001b[39;00m:\n\u001b[0;32m-> 1518\u001b[0m     \u001b[39mreturn\u001b[39;00m \u001b[39mself\u001b[39;49m\u001b[39m.\u001b[39;49m_call_impl(\u001b[39m*\u001b[39;49margs, \u001b[39m*\u001b[39;49m\u001b[39m*\u001b[39;49mkwargs)\n",
      "File \u001b[0;32m~/miniconda3/envs/graph_sage_6/lib/python3.9/site-packages/torch/nn/modules/module.py:1527\u001b[0m, in \u001b[0;36mModule._call_impl\u001b[0;34m(self, *args, **kwargs)\u001b[0m\n\u001b[1;32m   1522\u001b[0m \u001b[39m# If we don't have any hooks, we want to skip the rest of the logic in\u001b[39;00m\n\u001b[1;32m   1523\u001b[0m \u001b[39m# this function, and just call forward.\u001b[39;00m\n\u001b[1;32m   1524\u001b[0m \u001b[39mif\u001b[39;00m \u001b[39mnot\u001b[39;00m (\u001b[39mself\u001b[39m\u001b[39m.\u001b[39m_backward_hooks \u001b[39mor\u001b[39;00m \u001b[39mself\u001b[39m\u001b[39m.\u001b[39m_backward_pre_hooks \u001b[39mor\u001b[39;00m \u001b[39mself\u001b[39m\u001b[39m.\u001b[39m_forward_hooks \u001b[39mor\u001b[39;00m \u001b[39mself\u001b[39m\u001b[39m.\u001b[39m_forward_pre_hooks\n\u001b[1;32m   1525\u001b[0m         \u001b[39mor\u001b[39;00m _global_backward_pre_hooks \u001b[39mor\u001b[39;00m _global_backward_hooks\n\u001b[1;32m   1526\u001b[0m         \u001b[39mor\u001b[39;00m _global_forward_hooks \u001b[39mor\u001b[39;00m _global_forward_pre_hooks):\n\u001b[0;32m-> 1527\u001b[0m     \u001b[39mreturn\u001b[39;00m forward_call(\u001b[39m*\u001b[39;49margs, \u001b[39m*\u001b[39;49m\u001b[39m*\u001b[39;49mkwargs)\n\u001b[1;32m   1529\u001b[0m \u001b[39mtry\u001b[39;00m:\n\u001b[1;32m   1530\u001b[0m     result \u001b[39m=\u001b[39m \u001b[39mNone\u001b[39;00m\n",
      "File \u001b[0;32m~/miniconda3/envs/graph_sage_6/lib/python3.9/site-packages/torch_geometric/nn/models/basic_gnn.py:294\u001b[0m, in \u001b[0;36mBasicGNN.forward\u001b[0;34m(self, x, edge_index, edge_weight, edge_attr, batch, batch_size, num_sampled_nodes_per_hop, num_sampled_edges_per_hop)\u001b[0m\n\u001b[1;32m    292\u001b[0m \u001b[39mif\u001b[39;00m \u001b[39mself\u001b[39m\u001b[39m.\u001b[39mact \u001b[39mis\u001b[39;00m \u001b[39mnot\u001b[39;00m \u001b[39mNone\u001b[39;00m \u001b[39mand\u001b[39;00m \u001b[39mnot\u001b[39;00m \u001b[39mself\u001b[39m\u001b[39m.\u001b[39mact_first:\n\u001b[1;32m    293\u001b[0m     x \u001b[39m=\u001b[39m \u001b[39mself\u001b[39m\u001b[39m.\u001b[39mact(x)\n\u001b[0;32m--> 294\u001b[0m x \u001b[39m=\u001b[39m \u001b[39mself\u001b[39;49m\u001b[39m.\u001b[39;49mdropout(x)\n\u001b[1;32m    295\u001b[0m \u001b[39mif\u001b[39;00m \u001b[39mhasattr\u001b[39m(\u001b[39mself\u001b[39m, \u001b[39m'\u001b[39m\u001b[39mjk\u001b[39m\u001b[39m'\u001b[39m):\n\u001b[1;32m    296\u001b[0m     xs\u001b[39m.\u001b[39mappend(x)\n",
      "File \u001b[0;32m~/miniconda3/envs/graph_sage_6/lib/python3.9/site-packages/torch/nn/modules/module.py:1518\u001b[0m, in \u001b[0;36mModule._wrapped_call_impl\u001b[0;34m(self, *args, **kwargs)\u001b[0m\n\u001b[1;32m   1516\u001b[0m     \u001b[39mreturn\u001b[39;00m \u001b[39mself\u001b[39m\u001b[39m.\u001b[39m_compiled_call_impl(\u001b[39m*\u001b[39margs, \u001b[39m*\u001b[39m\u001b[39m*\u001b[39mkwargs)  \u001b[39m# type: ignore[misc]\u001b[39;00m\n\u001b[1;32m   1517\u001b[0m \u001b[39melse\u001b[39;00m:\n\u001b[0;32m-> 1518\u001b[0m     \u001b[39mreturn\u001b[39;00m \u001b[39mself\u001b[39;49m\u001b[39m.\u001b[39;49m_call_impl(\u001b[39m*\u001b[39;49margs, \u001b[39m*\u001b[39;49m\u001b[39m*\u001b[39;49mkwargs)\n",
      "File \u001b[0;32m~/miniconda3/envs/graph_sage_6/lib/python3.9/site-packages/torch/nn/modules/module.py:1527\u001b[0m, in \u001b[0;36mModule._call_impl\u001b[0;34m(self, *args, **kwargs)\u001b[0m\n\u001b[1;32m   1522\u001b[0m \u001b[39m# If we don't have any hooks, we want to skip the rest of the logic in\u001b[39;00m\n\u001b[1;32m   1523\u001b[0m \u001b[39m# this function, and just call forward.\u001b[39;00m\n\u001b[1;32m   1524\u001b[0m \u001b[39mif\u001b[39;00m \u001b[39mnot\u001b[39;00m (\u001b[39mself\u001b[39m\u001b[39m.\u001b[39m_backward_hooks \u001b[39mor\u001b[39;00m \u001b[39mself\u001b[39m\u001b[39m.\u001b[39m_backward_pre_hooks \u001b[39mor\u001b[39;00m \u001b[39mself\u001b[39m\u001b[39m.\u001b[39m_forward_hooks \u001b[39mor\u001b[39;00m \u001b[39mself\u001b[39m\u001b[39m.\u001b[39m_forward_pre_hooks\n\u001b[1;32m   1525\u001b[0m         \u001b[39mor\u001b[39;00m _global_backward_pre_hooks \u001b[39mor\u001b[39;00m _global_backward_hooks\n\u001b[1;32m   1526\u001b[0m         \u001b[39mor\u001b[39;00m _global_forward_hooks \u001b[39mor\u001b[39;00m _global_forward_pre_hooks):\n\u001b[0;32m-> 1527\u001b[0m     \u001b[39mreturn\u001b[39;00m forward_call(\u001b[39m*\u001b[39;49margs, \u001b[39m*\u001b[39;49m\u001b[39m*\u001b[39;49mkwargs)\n\u001b[1;32m   1529\u001b[0m \u001b[39mtry\u001b[39;00m:\n\u001b[1;32m   1530\u001b[0m     result \u001b[39m=\u001b[39m \u001b[39mNone\u001b[39;00m\n",
      "File \u001b[0;32m~/miniconda3/envs/graph_sage_6/lib/python3.9/site-packages/torch/nn/modules/dropout.py:58\u001b[0m, in \u001b[0;36mDropout.forward\u001b[0;34m(self, input)\u001b[0m\n\u001b[1;32m     57\u001b[0m \u001b[39mdef\u001b[39;00m \u001b[39mforward\u001b[39m(\u001b[39mself\u001b[39m, \u001b[39minput\u001b[39m: Tensor) \u001b[39m-\u001b[39m\u001b[39m>\u001b[39m Tensor:\n\u001b[0;32m---> 58\u001b[0m     \u001b[39mreturn\u001b[39;00m F\u001b[39m.\u001b[39;49mdropout(\u001b[39minput\u001b[39;49m, \u001b[39mself\u001b[39;49m\u001b[39m.\u001b[39;49mp, \u001b[39mself\u001b[39;49m\u001b[39m.\u001b[39;49mtraining, \u001b[39mself\u001b[39;49m\u001b[39m.\u001b[39;49minplace)\n",
      "File \u001b[0;32m~/miniconda3/envs/graph_sage_6/lib/python3.9/site-packages/torch/nn/functional.py:1266\u001b[0m, in \u001b[0;36mdropout\u001b[0;34m(input, p, training, inplace)\u001b[0m\n\u001b[1;32m   1264\u001b[0m \u001b[39mif\u001b[39;00m p \u001b[39m<\u001b[39m \u001b[39m0.0\u001b[39m \u001b[39mor\u001b[39;00m p \u001b[39m>\u001b[39m \u001b[39m1.0\u001b[39m:\n\u001b[1;32m   1265\u001b[0m     \u001b[39mraise\u001b[39;00m \u001b[39mValueError\u001b[39;00m(\u001b[39mf\u001b[39m\u001b[39m\"\u001b[39m\u001b[39mdropout probability has to be between 0 and 1, but got \u001b[39m\u001b[39m{\u001b[39;00mp\u001b[39m}\u001b[39;00m\u001b[39m\"\u001b[39m)\n\u001b[0;32m-> 1266\u001b[0m \u001b[39mreturn\u001b[39;00m _VF\u001b[39m.\u001b[39mdropout_(\u001b[39minput\u001b[39m, p, training) \u001b[39mif\u001b[39;00m inplace \u001b[39melse\u001b[39;00m _VF\u001b[39m.\u001b[39;49mdropout(\u001b[39minput\u001b[39;49m, p, training)\n",
      "\u001b[0;31mKeyboardInterrupt\u001b[0m: "
     ]
    }
   ],
   "source": [
    "emb_matrix = graphsage_experiments.compute_embedding_matrix(\n",
    "    data = data,\n",
    "    number_features = number_features,\n",
    "    number_nodes = number_nodes,\n",
    "    batch_size = batch_size,\n",
    "    hidden_layer = hidden_layer, \n",
    "    epochs = epochs, \n",
    "    neighborhood_1 = neighborhood_1,\n",
    "    neighborhood_2 = neighborhood_2,\n",
    "    embedding_dimension = embedding_dimension,\n",
    "    learning_rate = learning_rate,\n",
    "    dropout_rate = dropout_rate,\n",
    "    activation_function = activation_function,\n",
    "    aggregator = aggregator,\n",
    "    activation_before_normalization = True, \n",
    "    bias= True,\n",
    "    normalize = normalization\n",
    ")\n"
   ]
  },
  {
   "cell_type": "code",
   "execution_count": null,
   "metadata": {},
   "outputs": [],
   "source": []
  }
 ],
 "metadata": {
  "kernelspec": {
   "display_name": "graph_sage_6",
   "language": "python",
   "name": "python3"
  },
  "language_info": {
   "codemirror_mode": {
    "name": "ipython",
    "version": 3
   },
   "file_extension": ".py",
   "mimetype": "text/x-python",
   "name": "python",
   "nbconvert_exporter": "python",
   "pygments_lexer": "ipython3",
   "version": "3.9.18"
  },
  "orig_nbformat": 4
 },
 "nbformat": 4,
 "nbformat_minor": 2
}
