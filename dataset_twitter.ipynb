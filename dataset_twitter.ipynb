{
 "cells": [
  {
   "cell_type": "code",
   "execution_count": null,
   "metadata": {},
   "outputs": [],
   "source": [
    "import torch\n",
    "from torch_geometric.data import Data"
   ]
  },
  {
   "cell_type": "code",
   "execution_count": null,
   "metadata": {},
   "outputs": [],
   "source": [
    "def read_edges_file(file_path, delimiter=' '):\n",
    "    edges = []\n",
    "    with open(file_path, 'r') as file:\n",
    "        for line in file:\n",
    "            # Skip empty lines or comments\n",
    "            if line.startswith('#') or line.strip() == '':\n",
    "                continue\n",
    "            # Split the line into from and to node IDs and convert to integers\n",
    "            from_node, to_node = map(int, line.strip().split(delimiter))\n",
    "            edges.append([from_node, to_node])\n",
    "\n",
    "    # Convert edges to a PyTorch tensor\n",
    "    edge_index = torch.tensor(edges, dtype=torch.long).t().contiguous()\n",
    "\n",
    "    # Determine the number of nodes\n",
    "    num_nodes = edge_index.max().item() + 1\n",
    "\n",
    "    # Create one-hot encoded node features\n",
    "    node_features = torch.eye(num_nodes)\n",
    "\n",
    "    return node_features, edge_index\n"
   ]
  }
 ],
 "metadata": {
  "language_info": {
   "name": "python"
  },
  "orig_nbformat": 4
 },
 "nbformat": 4,
 "nbformat_minor": 2
}
