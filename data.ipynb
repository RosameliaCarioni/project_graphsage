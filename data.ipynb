{
 "cells": [
  {
   "cell_type": "code",
   "execution_count": null,
   "metadata": {},
   "outputs": [],
   "source": [
    "# Data Reddit\n",
    "dataset = Reddit(\"./\")\n",
    "data = dataset[0]\n",
    "data = data.to(device, 'x', 'y')\n",
    "data"
   ]
  },
  {
   "cell_type": "code",
   "execution_count": null,
   "metadata": {},
   "outputs": [],
   "source": [
    "train_idx = data.train_mask\n",
    "val_idx = data.val_mask\n",
    "test_idx = data.test_mask\n",
    "# Accessing feature and label data for each split\n",
    "X_train, y_train = data.x[train_idx], data.y[train_idx]\n",
    "X_val, y_val = data.x[val_idx], data.y[val_idx]\n",
    "X_test, y_test = data.x[test_idx], data.y[test_idx]"
   ]
  }
 ],
 "metadata": {
  "language_info": {
   "name": "python"
  },
  "orig_nbformat": 4
 },
 "nbformat": 4,
 "nbformat_minor": 2
}
