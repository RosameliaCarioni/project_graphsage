{
 "cells": [
  {
   "cell_type": "code",
   "execution_count": 1,
   "metadata": {},
   "outputs": [],
   "source": [
    "import graphsage_calculate_embeddings\n",
    "import test_embeddings\n",
    "from torch_geometric.datasets import Planetoid\n",
    "import torch.nn.functional as F\n",
    "import torch"
   ]
  },
  {
   "attachments": {},
   "cell_type": "markdown",
   "metadata": {},
   "source": [
    "# Read in data"
   ]
  },
  {
   "cell_type": "code",
   "execution_count": 2,
   "metadata": {},
   "outputs": [],
   "source": [
    "dataset = Planetoid(root='/tmp/Cora', name='Cora')\n",
    "data = dataset[0]"
   ]
  },
  {
   "attachments": {},
   "cell_type": "markdown",
   "metadata": {},
   "source": [
    "# Hyperparameters"
   ]
  },
  {
   "cell_type": "code",
   "execution_count": 3,
   "metadata": {},
   "outputs": [],
   "source": [
    "learning_rate = 0.0001 # variable to change/play around with for experiments --> 0.0001\n",
    "aggregator = 'mean' # variable to change/play around with for experiments\n",
    "directed_graph = False\n",
    "\n",
    "# FIXED PARAMS \n",
    "epochs = 10\n",
    "dropout_rate = 0.4\n",
    "normalization = True \n",
    "activation_function = F.relu\n",
    "bias = True\n",
    "batch_size =  512\n",
    "neighborhood_1 = 25\n",
    "neighborhood_2 = 10\n",
    "embedding_dimension = 128\n",
    "hidden_layer = 512"
   ]
  },
  {
   "attachments": {},
   "cell_type": "markdown",
   "metadata": {},
   "source": [
    "# Obtain embedding matrix"
   ]
  },
  {
   "cell_type": "code",
   "execution_count": 4,
   "metadata": {},
   "outputs": [],
   "source": [
    "number_features, number_nodes = data.num_features, data.x.shape[0]"
   ]
  },
  {
   "cell_type": "code",
   "execution_count": 5,
   "metadata": {},
   "outputs": [
    {
     "name": "stderr",
     "output_type": "stream",
     "text": [
      "Training Progress:   9%|▉         | 1/11 [00:01<00:12,  1.29s/it]"
     ]
    },
    {
     "name": "stdout",
     "output_type": "stream",
     "text": [
      "Epoch: 000, Total loss: 2.5468, time_taken: 1.290834903717041\n"
     ]
    },
    {
     "name": "stderr",
     "output_type": "stream",
     "text": [
      "Training Progress:  18%|█▊        | 2/11 [00:02<00:10,  1.21s/it]"
     ]
    },
    {
     "name": "stdout",
     "output_type": "stream",
     "text": [
      "Epoch: 001, Total loss: 2.5048, time_taken: 1.149693250656128\n"
     ]
    },
    {
     "name": "stderr",
     "output_type": "stream",
     "text": [
      "Training Progress:  27%|██▋       | 3/11 [00:03<00:09,  1.20s/it]"
     ]
    },
    {
     "name": "stdout",
     "output_type": "stream",
     "text": [
      "Epoch: 002, Total loss: 2.4936, time_taken: 1.1899290084838867\n"
     ]
    },
    {
     "name": "stderr",
     "output_type": "stream",
     "text": [
      "Training Progress:  36%|███▋      | 4/11 [00:04<00:08,  1.19s/it]"
     ]
    },
    {
     "name": "stdout",
     "output_type": "stream",
     "text": [
      "Epoch: 003, Total loss: 2.4811, time_taken: 1.1827359199523926\n"
     ]
    },
    {
     "name": "stderr",
     "output_type": "stream",
     "text": [
      "Training Progress:  45%|████▌     | 5/11 [00:05<00:07,  1.19s/it]"
     ]
    },
    {
     "name": "stdout",
     "output_type": "stream",
     "text": [
      "Epoch: 004, Total loss: 2.4417, time_taken: 1.1698400974273682\n"
     ]
    },
    {
     "name": "stderr",
     "output_type": "stream",
     "text": [
      "Training Progress:  55%|█████▍    | 6/11 [00:07<00:05,  1.17s/it]"
     ]
    },
    {
     "name": "stdout",
     "output_type": "stream",
     "text": [
      "Epoch: 005, Total loss: 2.3056, time_taken: 1.1503818035125732\n"
     ]
    },
    {
     "name": "stderr",
     "output_type": "stream",
     "text": [
      "Training Progress:  64%|██████▎   | 7/11 [00:08<00:04,  1.15s/it]"
     ]
    },
    {
     "name": "stdout",
     "output_type": "stream",
     "text": [
      "Epoch: 006, Total loss: 2.1483, time_taken: 1.108975887298584\n"
     ]
    },
    {
     "name": "stderr",
     "output_type": "stream",
     "text": [
      "Training Progress:  73%|███████▎  | 8/11 [00:09<00:03,  1.15s/it]"
     ]
    },
    {
     "name": "stdout",
     "output_type": "stream",
     "text": [
      "Epoch: 007, Total loss: 2.0909, time_taken: 1.1540682315826416\n"
     ]
    },
    {
     "name": "stderr",
     "output_type": "stream",
     "text": [
      "Training Progress:  82%|████████▏ | 9/11 [00:10<00:02,  1.14s/it]"
     ]
    },
    {
     "name": "stdout",
     "output_type": "stream",
     "text": [
      "Epoch: 008, Total loss: 2.0542, time_taken: 1.1177711486816406\n"
     ]
    },
    {
     "name": "stderr",
     "output_type": "stream",
     "text": [
      "Training Progress:  91%|█████████ | 10/11 [00:11<00:01,  1.13s/it]"
     ]
    },
    {
     "name": "stdout",
     "output_type": "stream",
     "text": [
      "Epoch: 009, Total loss: 2.0564, time_taken: 1.1151878833770752\n"
     ]
    },
    {
     "name": "stderr",
     "output_type": "stream",
     "text": [
      "Training Progress: 100%|██████████| 11/11 [00:12<00:00,  1.16s/it]"
     ]
    },
    {
     "name": "stdout",
     "output_type": "stream",
     "text": [
      "Epoch: 010, Total loss: 2.0401, time_taken: 1.0983037948608398\n",
      "Median time per epoch: 1.1505s\n"
     ]
    },
    {
     "name": "stderr",
     "output_type": "stream",
     "text": [
      "\n"
     ]
    }
   ],
   "source": [
    "embedding_matrix = graphsage_calculate_embeddings.compute_embedding_matrix(\n",
    "    data = data,\n",
    "    number_features = number_features,\n",
    "    number_nodes = number_nodes,\n",
    "    batch_size = batch_size,\n",
    "    hidden_layer = hidden_layer, \n",
    "    epochs = epochs, \n",
    "    neighborhood_1 = neighborhood_1,\n",
    "    neighborhood_2 = neighborhood_2,\n",
    "    embedding_dimension = embedding_dimension,\n",
    "    learning_rate = learning_rate,\n",
    "    dropout_rate = dropout_rate,\n",
    "    activation_function = activation_function,\n",
    "    aggregator = aggregator,\n",
    "    activation_before_normalization = True, \n",
    "    bias= True,\n",
    "    normalize = normalization\n",
    ")\n"
   ]
  },
  {
   "attachments": {},
   "cell_type": "markdown",
   "metadata": {},
   "source": [
    "# Save embedding matrix"
   ]
  },
  {
   "cell_type": "code",
   "execution_count": null,
   "metadata": {},
   "outputs": [],
   "source": [
    "torch.save(embedding_matrix, 'embeddings/cora_small.pt')"
   ]
  },
  {
   "cell_type": "code",
   "execution_count": 16,
   "metadata": {},
   "outputs": [
    {
     "name": "stdout",
     "output_type": "stream",
     "text": [
      "tensor([-0.0451,  0.1460, -0.0826, -0.0099,  0.0114, -0.1437,  0.0257, -0.1041,\n",
      "        -0.1011, -0.0123, -0.1976, -0.0826, -0.0536,  0.0027,  0.0145,  0.0394,\n",
      "         0.0553,  0.0026,  0.0670,  0.0522, -0.0974, -0.0214,  0.0250,  0.1137,\n",
      "         0.0690,  0.1135, -0.0982,  0.0047, -0.0490,  0.0705, -0.0247,  0.1199,\n",
      "         0.0261,  0.0567,  0.0634,  0.0701, -0.0677,  0.0688, -0.0173, -0.0420,\n",
      "         0.1197, -0.0072, -0.1108, -0.1049,  0.0146,  0.1797,  0.1281,  0.0121,\n",
      "         0.0507,  0.0064, -0.0214, -0.1914,  0.0777, -0.0311,  0.1702,  0.0048,\n",
      "        -0.1450, -0.1631, -0.0918,  0.0491,  0.0470, -0.0891,  0.0744,  0.0032,\n",
      "         0.1197, -0.2080,  0.1173,  0.0876,  0.0270,  0.2183, -0.0878,  0.0212,\n",
      "         0.0602, -0.0598, -0.1275,  0.0259,  0.0396,  0.0113, -0.1043,  0.0663,\n",
      "        -0.0223, -0.0179,  0.0703,  0.0594, -0.0308,  0.0288, -0.0712,  0.1674,\n",
      "         0.1075,  0.0526, -0.1342,  0.1112,  0.0426,  0.0493, -0.0336,  0.2211,\n",
      "        -0.0116, -0.0613,  0.1108,  0.1838, -0.1739,  0.1119, -0.1172,  0.0286,\n",
      "        -0.0183,  0.0975, -0.0344, -0.0917,  0.1069, -0.0286,  0.0728,  0.0406,\n",
      "         0.0298,  0.1321,  0.0754,  0.0053,  0.0007, -0.0272,  0.0736, -0.0304,\n",
      "         0.0274, -0.0098, -0.0732,  0.0209, -0.1128,  0.0819,  0.0651,  0.0726],\n",
      "       grad_fn=<SelectBackward0>)\n"
     ]
    }
   ],
   "source": [
    "# How to load it again: \n",
    "embedding_matrix = torch.load('embeddings/cora_small.pt')\n",
    "print(embedding_matrix[0])\n"
   ]
  },
  {
   "cell_type": "markdown",
   "metadata": {},
   "source": [
    "# Evaluate node classification "
   ]
  },
  {
   "cell_type": "code",
   "execution_count": 7,
   "metadata": {},
   "outputs": [],
   "source": [
    "acc, f1_macro, f1_micro = test_embeddings.test_node_classification_one_class(embedding_matrix, data.y)"
   ]
  },
  {
   "cell_type": "code",
   "execution_count": 8,
   "metadata": {},
   "outputs": [
    {
     "name": "stdout",
     "output_type": "stream",
     "text": [
      "Accuracy: 81.4631, F1_macro: 79.1748, F1_micro: 81.4631\n"
     ]
    }
   ],
   "source": [
    "print(f\"Accuracy: {acc*100:.4f}, F1_macro: {f1_macro*100:.4f}, F1_micro: {f1_micro*100:.4f}\")\n"
   ]
  },
  {
   "cell_type": "markdown",
   "metadata": {},
   "source": [
    "# Evaluate link prediction"
   ]
  },
  {
   "cell_type": "code",
   "execution_count": 9,
   "metadata": {},
   "outputs": [],
   "source": [
    "# Transform embedding matrix into numpy \n",
    "embedding_detached = embedding_matrix.detach()\n",
    "embedding_np = embedding_detached.numpy()\n",
    "\n",
    "# Obtain edges and non existing edges as lists \n",
    "edges, non_edges = test_embeddings.get_edges_and_non_edges_as_lists(data, directed_graph)"
   ]
  },
  {
   "cell_type": "code",
   "execution_count": 15,
   "metadata": {},
   "outputs": [
    {
     "data": {
      "text/plain": [
       "list"
      ]
     },
     "execution_count": 15,
     "metadata": {},
     "output_type": "execute_result"
    }
   ],
   "source": [
    "type(edges)"
   ]
  },
  {
   "cell_type": "code",
   "execution_count": 11,
   "metadata": {},
   "outputs": [
    {
     "name": "stdout",
     "output_type": "stream",
     "text": [
      "iteration done\n"
     ]
    }
   ],
   "source": [
    "roc_auc = test_embeddings.test_link_prediction_k_fold_validation(embedding_matrix, edges, non_edges)\n"
   ]
  },
  {
   "cell_type": "code",
   "execution_count": 12,
   "metadata": {},
   "outputs": [
    {
     "name": "stdout",
     "output_type": "stream",
     "text": [
      "ROC AUC Score: 97.26912787390232\n"
     ]
    }
   ],
   "source": [
    "print(\"ROC AUC Score:\", roc_auc*100)\n"
   ]
  }
 ],
 "metadata": {
  "kernelspec": {
   "display_name": "graph_sage_6",
   "language": "python",
   "name": "python3"
  },
  "language_info": {
   "codemirror_mode": {
    "name": "ipython",
    "version": 3
   },
   "file_extension": ".py",
   "mimetype": "text/x-python",
   "name": "python",
   "nbconvert_exporter": "python",
   "pygments_lexer": "ipython3",
   "version": "3.9.18"
  },
  "orig_nbformat": 4
 },
 "nbformat": 4,
 "nbformat_minor": 2
}
