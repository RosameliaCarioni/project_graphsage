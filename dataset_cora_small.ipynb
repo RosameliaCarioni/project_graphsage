{
 "cells": [
  {
   "cell_type": "code",
   "execution_count": 79,
   "metadata": {},
   "outputs": [],
   "source": [
    "import graphsage_experiments\n",
    "from torch_geometric.datasets import Planetoid\n",
    "import torch.nn.functional as F"
   ]
  },
  {
   "attachments": {},
   "cell_type": "markdown",
   "metadata": {},
   "source": [
    "# Read in data"
   ]
  },
  {
   "cell_type": "code",
   "execution_count": 2,
   "metadata": {},
   "outputs": [],
   "source": [
    "dataset = Planetoid(root='/tmp/Cora', name='Cora')\n",
    "data = dataset[0]"
   ]
  },
  {
   "attachments": {},
   "cell_type": "markdown",
   "metadata": {},
   "source": [
    "# Hyperparameters"
   ]
  },
  {
   "cell_type": "code",
   "execution_count": 3,
   "metadata": {},
   "outputs": [],
   "source": [
    "learning_rate = 0.0001 # variable to change/play around with for experiments --> 0.0001\n",
    "aggregator = 'mean' # variable to change/play around with for experiments\n",
    "\n",
    "epochs = 10\n",
    "dropout_rate = 0.4\n",
    "normalization = True \n",
    "activation_function = F.relu\n",
    "bias = True\n",
    "batch_size =  512\n",
    "neighborhood_1 = 25\n",
    "neighborhood_2 = 10\n",
    "embedding_dimension = 128\n",
    "hidden_layer = 512\n"
   ]
  },
  {
   "attachments": {},
   "cell_type": "markdown",
   "metadata": {},
   "source": [
    "# Obtain embedding matrix"
   ]
  },
  {
   "cell_type": "code",
   "execution_count": 4,
   "metadata": {},
   "outputs": [],
   "source": [
    "number_features, number_nodes = data.num_features, data.x.shape[0]"
   ]
  },
  {
   "cell_type": "code",
   "execution_count": 5,
   "metadata": {},
   "outputs": [
    {
     "name": "stderr",
     "output_type": "stream",
     "text": [
      "Training Progress:   9%|▉         | 1/11 [00:01<00:13,  1.31s/it]"
     ]
    },
    {
     "name": "stdout",
     "output_type": "stream",
     "text": [
      "Epoch: 000, Total loss: 2.5447, time_taken: 1.310595989227295\n"
     ]
    },
    {
     "name": "stderr",
     "output_type": "stream",
     "text": [
      "Training Progress:  18%|█▊        | 2/11 [00:02<00:11,  1.23s/it]"
     ]
    },
    {
     "name": "stdout",
     "output_type": "stream",
     "text": [
      "Epoch: 001, Total loss: 2.5058, time_taken: 1.1724419593811035\n"
     ]
    },
    {
     "name": "stderr",
     "output_type": "stream",
     "text": [
      "Training Progress:  27%|██▋       | 3/11 [00:03<00:09,  1.23s/it]"
     ]
    },
    {
     "name": "stdout",
     "output_type": "stream",
     "text": [
      "Epoch: 002, Total loss: 2.4955, time_taken: 1.222532033920288\n"
     ]
    },
    {
     "name": "stderr",
     "output_type": "stream",
     "text": [
      "Training Progress:  36%|███▋      | 4/11 [00:04<00:08,  1.22s/it]"
     ]
    },
    {
     "name": "stdout",
     "output_type": "stream",
     "text": [
      "Epoch: 003, Total loss: 2.4810, time_taken: 1.2009391784667969\n"
     ]
    },
    {
     "name": "stderr",
     "output_type": "stream",
     "text": [
      "Training Progress:  45%|████▌     | 5/11 [00:06<00:07,  1.18s/it]"
     ]
    },
    {
     "name": "stdout",
     "output_type": "stream",
     "text": [
      "Epoch: 004, Total loss: 2.4382, time_taken: 1.1212689876556396\n"
     ]
    },
    {
     "name": "stderr",
     "output_type": "stream",
     "text": [
      "Training Progress:  55%|█████▍    | 6/11 [00:07<00:05,  1.17s/it]"
     ]
    },
    {
     "name": "stdout",
     "output_type": "stream",
     "text": [
      "Epoch: 005, Total loss: 2.2884, time_taken: 1.135948896408081\n"
     ]
    },
    {
     "name": "stderr",
     "output_type": "stream",
     "text": [
      "Training Progress:  64%|██████▎   | 7/11 [00:08<00:04,  1.16s/it]"
     ]
    },
    {
     "name": "stdout",
     "output_type": "stream",
     "text": [
      "Epoch: 006, Total loss: 2.1537, time_taken: 1.1307408809661865\n"
     ]
    },
    {
     "name": "stderr",
     "output_type": "stream",
     "text": [
      "Training Progress:  73%|███████▎  | 8/11 [00:09<00:03,  1.14s/it]"
     ]
    },
    {
     "name": "stdout",
     "output_type": "stream",
     "text": [
      "Epoch: 007, Total loss: 2.0910, time_taken: 1.11885404586792\n"
     ]
    },
    {
     "name": "stderr",
     "output_type": "stream",
     "text": [
      "Training Progress:  82%|████████▏ | 9/11 [00:10<00:02,  1.15s/it]"
     ]
    },
    {
     "name": "stdout",
     "output_type": "stream",
     "text": [
      "Epoch: 008, Total loss: 2.0781, time_taken: 1.1734788417816162\n"
     ]
    },
    {
     "name": "stderr",
     "output_type": "stream",
     "text": [
      "Training Progress:  91%|█████████ | 10/11 [00:11<00:01,  1.15s/it]"
     ]
    },
    {
     "name": "stdout",
     "output_type": "stream",
     "text": [
      "Epoch: 009, Total loss: 2.0514, time_taken: 1.1287791728973389\n"
     ]
    },
    {
     "name": "stderr",
     "output_type": "stream",
     "text": [
      "Training Progress: 100%|██████████| 11/11 [00:12<00:00,  1.17s/it]"
     ]
    },
    {
     "name": "stdout",
     "output_type": "stream",
     "text": [
      "Epoch: 010, Total loss: 2.0407, time_taken: 1.1666209697723389\n",
      "Median time per epoch: 1.1667s\n"
     ]
    },
    {
     "name": "stderr",
     "output_type": "stream",
     "text": [
      "\n"
     ]
    }
   ],
   "source": [
    "embedding_matrix = graphsage_experiments.compute_embedding_matrix(\n",
    "    data = data,\n",
    "    number_features = number_features,\n",
    "    number_nodes = number_nodes,\n",
    "    batch_size = batch_size,\n",
    "    hidden_layer = hidden_layer, \n",
    "    epochs = epochs, \n",
    "    neighborhood_1 = neighborhood_1,\n",
    "    neighborhood_2 = neighborhood_2,\n",
    "    embedding_dimension = embedding_dimension,\n",
    "    learning_rate = learning_rate,\n",
    "    dropout_rate = dropout_rate,\n",
    "    activation_function = activation_function,\n",
    "    aggregator = aggregator,\n",
    "    activation_before_normalization = True, \n",
    "    bias= True,\n",
    "    normalize = normalization\n",
    ")\n"
   ]
  },
  {
   "attachments": {},
   "cell_type": "markdown",
   "metadata": {},
   "source": [
    "# Evaluate node classification "
   ]
  },
  {
   "cell_type": "code",
   "execution_count": 8,
   "metadata": {},
   "outputs": [],
   "source": [
    "acc, f1_macro, f1_micro = graphsage_experiments.test_node_classification_one_class(embedding_matrix, data.y)"
   ]
  },
  {
   "cell_type": "code",
   "execution_count": 9,
   "metadata": {},
   "outputs": [
    {
     "name": "stdout",
     "output_type": "stream",
     "text": [
      "Accuracy: 81.4631, F1_macro: 79.1748, F1_micro: 81.4631\n"
     ]
    }
   ],
   "source": [
    "print(f\"Accuracy: {acc*100:.4f}, F1_macro: {f1_macro*100:.4f}, F1_micro: {f1_micro*100:.4f}\")\n"
   ]
  },
  {
   "cell_type": "code",
   "execution_count": 64,
   "metadata": {},
   "outputs": [
    {
     "data": {
      "text/plain": [
       "tensor([[-0.0451,  0.1460, -0.0826,  ...,  0.0819,  0.0651,  0.0726],\n",
       "        [-0.0233,  0.1161, -0.1892,  ...,  0.0461,  0.1131, -0.1924],\n",
       "        [-0.0596,  0.1444, -0.1636,  ...,  0.1064,  0.1042, -0.0834],\n",
       "        ...,\n",
       "        [ 0.0204,  0.1114,  0.1272,  ...,  0.0616, -0.0917,  0.0431],\n",
       "        [-0.0798,  0.1751, -0.0938,  ...,  0.0863,  0.0758,  0.0333],\n",
       "        [-0.0666,  0.1715, -0.0939,  ...,  0.1096,  0.0752,  0.0466]],\n",
       "       grad_fn=<DivBackward0>)"
      ]
     },
     "execution_count": 64,
     "metadata": {},
     "output_type": "execute_result"
    }
   ],
   "source": [
    "embedding_matrix"
   ]
  },
  {
   "cell_type": "markdown",
   "metadata": {},
   "source": [
    "# Evaluate link prediction"
   ]
  },
  {
   "cell_type": "code",
   "execution_count": null,
   "metadata": {},
   "outputs": [],
   "source": [
    "# Transform embedding matrix into numpy \n",
    "embedding_detached = embedding_matrix.detach()\n",
    "embedding_np = embedding_detached.numpy()\n",
    "embedding_np\n",
    "\n",
    "# Obtain edges and non existing edges as lists \n",
    "edges, non_edges = graphsage_experiments.get_edges_and_non_edges_as_lists(data)"
   ]
  },
  {
   "cell_type": "code",
   "execution_count": null,
   "metadata": {},
   "outputs": [],
   "source": [
    "roc_auc = graphsage_experiments.test_link_prediction_k_fold_validation(embedding_matrix)\n"
   ]
  },
  {
   "cell_type": "code",
   "execution_count": 81,
   "metadata": {},
   "outputs": [
    {
     "name": "stdout",
     "output_type": "stream",
     "text": [
      "ROC AUC Score: 97.26912787390232\n"
     ]
    }
   ],
   "source": [
    "print(\"ROC AUC Score:\", roc_auc*100)\n"
   ]
  }
 ],
 "metadata": {
  "kernelspec": {
   "display_name": "graph_sage_6",
   "language": "python",
   "name": "python3"
  },
  "language_info": {
   "codemirror_mode": {
    "name": "ipython",
    "version": 3
   },
   "file_extension": ".py",
   "mimetype": "text/x-python",
   "name": "python",
   "nbconvert_exporter": "python",
   "pygments_lexer": "ipython3",
   "version": "3.9.18"
  },
  "orig_nbformat": 4
 },
 "nbformat": 4,
 "nbformat_minor": 2
}
