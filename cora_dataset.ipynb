{
 "cells": [
  {
   "cell_type": "code",
   "execution_count": 1,
   "metadata": {},
   "outputs": [],
   "source": [
    "import embedding_matrix\n",
    "from torch_geometric.datasets import Planetoid\n",
    "import torch.nn.functional as F"
   ]
  },
  {
   "cell_type": "code",
   "execution_count": 2,
   "metadata": {},
   "outputs": [],
   "source": [
    "dataset = Planetoid(root='/tmp/Cora', name='Cora')\n",
    "data = dataset[0]"
   ]
  },
  {
   "cell_type": "code",
   "execution_count": 3,
   "metadata": {},
   "outputs": [],
   "source": [
    "learning_rate = 0.01 # variable to change/play around with for experiments --> 0.0001\n",
    "aggregator = 'mean' # variable to change/play around with for experiments\n",
    "\n",
    "epochs = 10\n",
    "dropout_rate = 0.4\n",
    "normalization = True  # TODO: ask fernando \n",
    "activation_function = F.relu\n",
    "bias = True\n",
    "batch_size =  512\n",
    "neighborhood_1 = 25\n",
    "neighborhood_2 = 10\n",
    "embedding_dimension = 128\n"
   ]
  },
  {
   "cell_type": "code",
   "execution_count": 4,
   "metadata": {},
   "outputs": [],
   "source": [
    "number_features, number_nodes = data.num_features, data.x.shape[0]"
   ]
  },
  {
   "cell_type": "code",
   "execution_count": 5,
   "metadata": {},
   "outputs": [
    {
     "name": "stdout",
     "output_type": "stream",
     "text": [
      "Epoch: 000, Accuracy: 0.3021, Total loss: 2.5077, f1_macro: 0.0663, f1_micro:0.3021 \n",
      "Epoch: 001, Accuracy: 0.3021, Total loss: 2.5009, f1_macro: 0.0663, f1_micro:0.3021 \n",
      "Epoch: 002, Accuracy: 0.3028, Total loss: 2.5008, f1_macro: 0.0677, f1_micro:0.3028 \n",
      "Epoch: 003, Accuracy: 0.4184, Total loss: 2.5004, f1_macro: 0.1943, f1_micro:0.4184 \n",
      "Epoch: 004, Accuracy: 0.4634, Total loss: 2.4960, f1_macro: 0.2518, f1_micro:0.4634 \n",
      "Epoch: 005, Accuracy: 0.4815, Total loss: 2.3064, f1_macro: 0.3275, f1_micro:0.4815 \n",
      "Epoch: 006, Accuracy: 0.4671, Total loss: 2.1504, f1_macro: 0.2643, f1_micro:0.4671 \n",
      "Epoch: 007, Accuracy: 0.5288, Total loss: 2.1386, f1_macro: 0.3560, f1_micro:0.5288 \n",
      "Epoch: 008, Accuracy: 0.5798, Total loss: 2.0999, f1_macro: 0.4421, f1_micro:0.5798 \n",
      "Epoch: 009, Accuracy: 0.6311, Total loss: 2.0751, f1_macro: 0.5282, f1_micro:0.6311 \n",
      "Epoch: 010, Accuracy: 0.6828, Total loss: 2.0300, f1_macro: 0.5870, f1_micro:0.6828 \n",
      "Median time per epoch: 2.7841s\n"
     ]
    }
   ],
   "source": [
    "emb_matrix = embedding_matrix.compute_embedding_matrix(\n",
    "    data = data,\n",
    "    number_features = number_features,\n",
    "    number_nodes = number_nodes,\n",
    "    batch_size = batch_size,\n",
    "    epochs = epochs, \n",
    "    neighborhood_1 = neighborhood_1,\n",
    "    neighborhood_2 = neighborhood_2,\n",
    "    embedding_dimension = embedding_dimension,\n",
    "    learning_rate = learning_rate,\n",
    "    dropout_rate = dropout_rate,\n",
    "    activation_function = activation_function,\n",
    "    aggregator = aggregator,\n",
    "    activation_before_normalization= True,\n",
    "    bias= True,\n",
    "    normalize = normalization,\n",
    ")\n"
   ]
  },
  {
   "cell_type": "code",
   "execution_count": null,
   "metadata": {},
   "outputs": [],
   "source": []
  }
 ],
 "metadata": {
  "kernelspec": {
   "display_name": "graph_sage_6",
   "language": "python",
   "name": "python3"
  },
  "language_info": {
   "codemirror_mode": {
    "name": "ipython",
    "version": 3
   },
   "file_extension": ".py",
   "mimetype": "text/x-python",
   "name": "python",
   "nbconvert_exporter": "python",
   "pygments_lexer": "ipython3",
   "version": "3.9.18"
  },
  "orig_nbformat": 4
 },
 "nbformat": 4,
 "nbformat_minor": 2
}
