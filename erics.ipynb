{
 "cells": [
  {
   "cell_type": "code",
   "execution_count": null,
   "metadata": {},
   "outputs": [],
   "source": [
    "# Load the data\n",
    "edges_path = './BlogCatalog-dataset/data/edges.csv'\n",
    "nodes_path = './BlogCatalog-dataset/data/nodes.csv'\n",
    "groups_path = './BlogCatalog-dataset/data/groups.csv'\n",
    "group_edges_path = './BlogCatalog-dataset/data/group-edges.csv'\n",
    "\n",
    "nodes_id = pd.read_csv(nodes_path, header=None, names=['id'])\n",
    "groups_id = pd.read_csv(groups_path, header=None, names=['group'])\n",
    "edges = pd.read_csv(edges_path, header=None, names=['id_1', 'id_2'])\n",
    "user_group_membership = pd.read_csv(group_edges_path, header=None, names=['id', 'group'])\n",
    "\n",
    "# Create a graph\n",
    "G_BC = nx.Graph()\n",
    "\n",
    "# Add nodes to the graph\n",
    "G_BC.add_nodes_from(nodes_id['id'])\n",
    "\n",
    "# Add edges to the graph\n",
    "G_BC.add_edges_from(edges[['id_1', 'id_2']].values)\n",
    "\n",
    "# Create a dictionary to store groups for each ID\n",
    "group_dict = {}\n",
    "\n",
    "# Populate the group_dict\n",
    "for _, row in user_group_membership.iterrows():\n",
    "    user_id = row['id']\n",
    "    group_id = row['group']\n",
    "\n",
    "    # Check if the user_id is already in the dictionary\n",
    "    if user_id in group_dict:\n",
    "        group_dict[user_id].append(group_id)\n",
    "    else:\n",
    "        group_dict[user_id] = [group_id]\n",
    "\n",
    "# Add group labels to the nodes\n",
    "for user_id, groups in group_dict.items():\n",
    "    nx.set_node_attributes(G_BC, {user_id: groups}, 'group_belonging')\n",
    "\n",
    "# Print basic graph information\n",
    "print(\"Number of nodes:\", G_BC.number_of_nodes())\n",
    "print(\"Number of edges:\", G_BC.number_of_edges())"
   ]
  }
 ],
 "metadata": {
  "language_info": {
   "name": "python"
  },
  "orig_nbformat": 4
 },
 "nbformat": 4,
 "nbformat_minor": 2
}
