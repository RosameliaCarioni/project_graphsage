{
 "cells": [
  {
   "cell_type": "code",
   "execution_count": 1,
   "metadata": {},
   "outputs": [],
   "source": [
    "import torch\n",
    "from torch_geometric.data import Data\n",
    "import pandas as pd\n",
    "import networkx as nx\n",
    "from torch_geometric.utils.convert import from_networkx\n",
    "import numpy as np\n",
    "from sklearn.preprocessing import MultiLabelBinarizer\n",
    "import graphsage_calculate_embeddings\n",
    "import torch.nn.functional as F\n",
    "import read_data\n",
    "import test_embeddings\n",
    "import locale\n",
    "\n"
   ]
  },
  {
   "attachments": {},
   "cell_type": "markdown",
   "metadata": {},
   "source": [
    "# Understanding the Dataset\n",
    "\n",
    "nodes.csv: Contains the node IDs, where each ID represents a unique user on YouTube.\n",
    "\n",
    "groups.csv:  Contains group IDs, each representing a different group or community within the YouTube platform.\n",
    "\n",
    "edges.csv:  Comprises pairs of user IDs, with each pair indicating a friendship link between two users. For example, an entry \"1,2\" means that the user with ID \"1\" is friends with the user with ID \"2\".\n",
    "\n",
    "group-edges.csv: Each line has two numbers; the first is a user ID, and the second is a group ID. This file links users to the groups they are part of."
   ]
  },
  {
   "cell_type": "code",
   "execution_count": 2,
   "metadata": {},
   "outputs": [],
   "source": [
    "# Paths to data files\n",
    "nodes_path = 'datasets/YouTube-dataset/data/nodes.csv'\n",
    "edges_path = 'datasets/YouTube-dataset/data/edges.csv'\n",
    "groups_path = 'datasets/YouTube-dataset/data/groups.csv'\n",
    "group_edges_path = 'datasets/Youtube-dataset/data/group-edges.csv'"
   ]
  },
  {
   "cell_type": "markdown",
   "metadata": {},
   "source": [
    "# Create graph object and transform it to torch_geometric.data"
   ]
  },
  {
   "cell_type": "code",
   "execution_count": null,
   "metadata": {},
   "outputs": [],
   "source": [
    "graph, labels = read_data.read_dataset_arizona_university(nodes_path, edges_path, groups_path, group_edges_path)\n",
    "data = from_networkx(graph)\n",
    "# TODO: error when reading data because some nodes don't have labels "
   ]
  },
  {
   "cell_type": "code",
   "execution_count": null,
   "metadata": {},
   "outputs": [],
   "source": [
    "# Adjusting labels and features \n",
    "data.y = torch.from_numpy(labels.astype(float))\n",
    "# Add x variable which diagonal matrix with 1's as entries and size = num_nodes x num_nodes\n",
    "x_diagonal = torch.eye(data.num_nodes)\n",
    "data.x = x_diagonal.float()"
   ]
  },
  {
   "cell_type": "markdown",
   "metadata": {},
   "source": [
    "# Define hyperparameters"
   ]
  },
  {
   "cell_type": "code",
   "execution_count": null,
   "metadata": {},
   "outputs": [],
   "source": [
    "learning_rate = 0.0001 \n",
    "aggregator = 'MeanAggregation'\n",
    "epochs = 10\n",
    "dropout_rate = 0.4\n",
    "normalization = True \n",
    "activation_function = F.relu\n",
    "bias = True\n",
    "batch_size =  512\n",
    "neighborhood_1 = 25\n",
    "neighborhood_2 = 10\n",
    "embedding_dimension = 128\n",
    "hidden_layer = 512\n",
    "project = False"
   ]
  },
  {
   "cell_type": "markdown",
   "metadata": {},
   "source": [
    "# Obtain embedding matrix"
   ]
  },
  {
   "cell_type": "code",
   "execution_count": null,
   "metadata": {},
   "outputs": [],
   "source": [
    "number_features, number_nodes = data.num_features, data.x.shape[0]"
   ]
  },
  {
   "cell_type": "code",
   "execution_count": null,
   "metadata": {},
   "outputs": [],
   "source": [
    "embedding_matrix = graphsage_calculate_embeddings.compute_embedding_matrix(\n",
    "    data=data,\n",
    "    number_features=number_features,\n",
    "    number_nodes=number_nodes,\n",
    "    batch_size=batch_size,\n",
    "    hidden_layer=hidden_layer,\n",
    "    epochs=epochs,\n",
    "    neighborhood_1=neighborhood_1,\n",
    "    neighborhood_2=neighborhood_2,\n",
    "    embedding_dimension=embedding_dimension,\n",
    "    learning_rate=learning_rate,\n",
    "    dropout_rate=dropout_rate,\n",
    "    activation_function=activation_function,\n",
    "    aggregator=aggregator,\n",
    "    activation_before_normalization=True, \n",
    "    bias=True,\n",
    "    normalize=normalization, \n",
    "    project=project\n",
    ")\n"
   ]
  },
  {
   "cell_type": "markdown",
   "metadata": {},
   "source": [
    "# Save embedding"
   ]
  },
  {
   "cell_type": "code",
   "execution_count": null,
   "metadata": {},
   "outputs": [],
   "source": [
    "file_name = 'embeddings/youtube.pt'\n",
    "torch.save(embedding_matrix, file_name)"
   ]
  },
  {
   "cell_type": "markdown",
   "metadata": {},
   "source": [
    "# Testing results"
   ]
  },
  {
   "cell_type": "markdown",
   "metadata": {},
   "source": [
    "# Node clasification"
   ]
  },
  {
   "cell_type": "code",
   "execution_count": null,
   "metadata": {},
   "outputs": [],
   "source": [
    "acc, f1_macro, f1_micro = test_embeddings.test_node_classification_multi_class(embedding_matrix, data.y)\n",
    "#print(f\"Accuracy: {acc*100:.4f}, F1_macro: {f1_macro*100:.4f}, F1_micro: {f1_micro*100:.4f}\")"
   ]
  },
  {
   "cell_type": "code",
   "execution_count": null,
   "metadata": {},
   "outputs": [],
   "source": [
    "locale.setlocale(locale.LC_ALL, 'de_DE')\n",
    "\n",
    "# Format the numbers with four digits after the decimal and replace the dot with a comma\n",
    "formatted_acc = locale.format_string(\"%.4f\", acc * 100).replace('.', ',')\n",
    "formatted_f1_macro = locale.format_string(\"%.4f\", f1_macro * 100).replace('.', ',')\n",
    "formatted_f1_micro = locale.format_string(\"%.4f\", f1_micro * 100).replace('.', ',')\n",
    "\n",
    "print(f\"Accuracy: {formatted_acc}, F1_macro: {formatted_f1_macro}, F1_micro: {formatted_f1_micro}\")"
   ]
  },
  {
   "cell_type": "markdown",
   "metadata": {},
   "source": [
    "# Link Prediction"
   ]
  },
  {
   "cell_type": "code",
   "execution_count": null,
   "metadata": {},
   "outputs": [],
   "source": [
    "train_data, test_data = test_embeddings.train_test_split_graph(data = data, is_undirected = True) # TODO: change the is_undirected depending on graph\n",
    "\n",
    "# Prepare edges\n",
    "test_edges = test_data.edge_label_index.numpy().T\n",
    "y_true = test_data.edge_label.numpy()\n",
    "\n",
    "# Prepare embeddings\n",
    "embedding_detached = embedding_matrix.detach()\n",
    "embedding_np = embedding_detached.numpy()"
   ]
  },
  {
   "cell_type": "code",
   "execution_count": null,
   "metadata": {},
   "outputs": [],
   "source": [
    "roc_auc_score = test_embeddings.k_fold_cross_validation_link_prediction(embedding_np, test_edges, y_true, k=5)\n"
   ]
  },
  {
   "cell_type": "code",
   "execution_count": null,
   "metadata": {},
   "outputs": [],
   "source": [
    "formatted_score = \"{:.4f}\".format(roc_auc_score * 100).replace('.', ',')\n",
    "print(\"ROC AUC Score:\", formatted_score)"
   ]
  }
 ],
 "metadata": {
  "kernelspec": {
   "display_name": "graph_sage_6",
   "language": "python",
   "name": "python3"
  },
  "language_info": {
   "codemirror_mode": {
    "name": "ipython",
    "version": 3
   },
   "file_extension": ".py",
   "mimetype": "text/x-python",
   "name": "python",
   "nbconvert_exporter": "python",
   "pygments_lexer": "ipython3",
   "version": "3.9.18"
  },
  "orig_nbformat": 4
 },
 "nbformat": 4,
 "nbformat_minor": 2
}
