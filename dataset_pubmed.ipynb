{
 "cells": [
  {
   "cell_type": "code",
   "execution_count": 5,
   "metadata": {},
   "outputs": [],
   "source": [
    "import graphsage_calculate_embeddings\n",
    "import test_embeddings\n",
    "from torch_geometric.datasets import Planetoid\n",
    "import torch.nn.functional as F\n",
    "import torch\n",
    "import time\n",
    "import traceback\n",
    "import locale\n",
    "import graph_information"
   ]
  },
  {
   "cell_type": "markdown",
   "metadata": {},
   "source": [
    "# Read in data"
   ]
  },
  {
   "cell_type": "code",
   "execution_count": 2,
   "metadata": {},
   "outputs": [],
   "source": [
    "dataset = Planetoid(root='/tmp/PubMed', name='PubMed')\n",
    "data = dataset[0]"
   ]
  },
  {
   "cell_type": "code",
   "execution_count": 4,
   "metadata": {},
   "outputs": [
    {
     "name": "stdout",
     "output_type": "stream",
     "text": [
      "Dataset: PubMed()\n",
      "-------------------\n",
      "Number of graphs: 1\n",
      "Number of nodes: 19717\n",
      "Number of features: 500\n",
      "Number of classes: 3\n",
      "\n",
      "Graph:\n",
      "------\n",
      "Training nodes: 60\n",
      "Evaluation nodes: 500\n",
      "Test nodes: 1000\n",
      "Edges are directed: False\n",
      "Graph has isolated nodes: False\n",
      "Graph has loops: False\n"
     ]
    }
   ],
   "source": [
    "graph_information.visualize_information_graph(dataset)"
   ]
  },
  {
   "attachments": {},
   "cell_type": "markdown",
   "metadata": {},
   "source": [
    "# This script was used to experiment with the learning rates and the aggregators types"
   ]
  },
  {
   "cell_type": "code",
   "execution_count": null,
   "metadata": {},
   "outputs": [],
   "source": [
    "learning_rates = [0.001, 0.0001, 0.00002] \n",
    "aggregators = ['MeanAggregation', 'MaxAggregation', 'LSTMAggregation']\n",
    "projects = [True, False]\n",
    "directed_graph = True\n",
    "\n",
    "# FIXED PARAMS \n",
    "epochs = 10\n",
    "dropout_rate = 0.4\n",
    "normalization = True \n",
    "activation_function = F.relu\n",
    "bias = True\n",
    "batch_size =  512\n",
    "neighborhood_1 = 25\n",
    "neighborhood_2 = 10\n",
    "embedding_dimension = 128\n",
    "hidden_layer = 512\n",
    "#project = True # layer applies a linear transformation followed by an activation function before aggreagation, as described in EQ. 3 of paper "
   ]
  },
  {
   "cell_type": "markdown",
   "metadata": {},
   "source": [
    "# Obtain embedding matrix"
   ]
  },
  {
   "cell_type": "code",
   "execution_count": null,
   "metadata": {},
   "outputs": [],
   "source": [
    "number_features, number_nodes = data.num_features, data.x.shape[0]\n",
    "data = data.sort(sort_by_row=False)"
   ]
  },
  {
   "cell_type": "code",
   "execution_count": null,
   "metadata": {},
   "outputs": [],
   "source": [
    "results = []\n",
    "broken_experiments = []\n",
    "\n",
    "for lr in learning_rates:\n",
    "    for aggregator in aggregators:\n",
    "        for project in projects:\n",
    "            try: \n",
    "                start_time = time.time()\n",
    "                # Compute the embedding matrix for the current set of hyperparameters\n",
    "                embedding_matrix = graphsage_calculate_embeddings.compute_embedding_matrix(\n",
    "                    data=data,\n",
    "                    number_features=number_features,\n",
    "                    number_nodes=number_nodes,\n",
    "                    batch_size=batch_size,\n",
    "                    hidden_layer=hidden_layer,\n",
    "                    epochs=epochs,\n",
    "                    neighborhood_1=neighborhood_1,\n",
    "                    neighborhood_2=neighborhood_2,\n",
    "                    embedding_dimension=embedding_dimension,\n",
    "                    learning_rate=lr,\n",
    "                    dropout_rate=dropout_rate,\n",
    "                    activation_function=activation_function,\n",
    "                    aggregator=aggregator,\n",
    "                    activation_before_normalization=True, \n",
    "                    bias=True,\n",
    "                    normalize=normalization, \n",
    "                    project=project\n",
    "                )\n",
    "                \n",
    "                # Store the embedding matrix and corresponding hyperparameters\n",
    "                results.append({\n",
    "                    'learning_rate': lr,\n",
    "                    'aggregator': aggregator,\n",
    "                    'embedding_matrix': embedding_matrix, \n",
    "                    'time': time.time() - start_time\n",
    "                })\n",
    "                torch.save(embedding_matrix, f\"embeddings/pubmed/{lr}_{aggregator}_{project}_.pt\")\n",
    "            except Exception as e:\n",
    "                broken_experiments.append({\n",
    "                    'learning_rate': lr,\n",
    "                    'aggregator': aggregator,\n",
    "                    'embedding_matrix': embedding_matrix, \n",
    "                    'time': time.time() - start_time,\n",
    "                    'error': traceback.format_exc()\n",
    "                })\n"
   ]
  },
  {
   "attachments": {},
   "cell_type": "markdown",
   "metadata": {},
   "source": [
    "# Testing results"
   ]
  },
  {
   "cell_type": "code",
   "execution_count": 100,
   "metadata": {},
   "outputs": [],
   "source": [
    "# Change file_name to test other resuls \n",
    "file_name = 'embeddings/pubmed/0.0001_MaxAggregation_False_.pt'\n",
    "\n",
    "embedding_matrix = torch.load(file_name)\n"
   ]
  },
  {
   "attachments": {},
   "cell_type": "markdown",
   "metadata": {},
   "source": [
    "# Node clasification"
   ]
  },
  {
   "cell_type": "code",
   "execution_count": 101,
   "metadata": {},
   "outputs": [],
   "source": [
    "acc, f1_macro, f1_micro = test_embeddings.test_node_classification_multi_class(embedding_matrix, data.y)\n",
    "#print(f\"Accuracy: {acc*100:.4f}, F1_macro: {f1_macro*100:.4f}, F1_micro: {f1_micro*100:.4f}\")"
   ]
  },
  {
   "cell_type": "code",
   "execution_count": 102,
   "metadata": {},
   "outputs": [
    {
     "name": "stdout",
     "output_type": "stream",
     "text": [
      "Accuracy: 81,2041, F1_macro: 80,0528, F1_micro: 81,2041\n"
     ]
    }
   ],
   "source": [
    "locale.setlocale(locale.LC_ALL, 'de_DE')\n",
    "\n",
    "# Format the numbers with four digits after the decimal and replace the dot with a comma\n",
    "formatted_acc = locale.format_string(\"%.4f\", acc * 100).replace('.', ',')\n",
    "formatted_f1_macro = locale.format_string(\"%.4f\", f1_macro * 100).replace('.', ',')\n",
    "formatted_f1_micro = locale.format_string(\"%.4f\", f1_micro * 100).replace('.', ',')\n",
    "\n",
    "print(f\"Accuracy: {formatted_acc}, F1_macro: {formatted_f1_macro}, F1_micro: {formatted_f1_micro}\")"
   ]
  },
  {
   "attachments": {},
   "cell_type": "markdown",
   "metadata": {},
   "source": [
    "# Link Prediction"
   ]
  },
  {
   "cell_type": "code",
   "execution_count": 64,
   "metadata": {},
   "outputs": [],
   "source": [
    "train_data, test_data = test_embeddings.train_test_split_graph(data = data, is_undirected = False) # TODO: change the is_undirected depending on graph\n",
    "\n",
    "# Prepare edges\n",
    "test_edges = test_data.edge_label_index.numpy().T\n",
    "y_true = test_data.edge_label.numpy()\n",
    "\n",
    "# Prepare embeddings\n",
    "embedding_detached = embedding_matrix.detach()\n",
    "embedding_np = embedding_detached.numpy()"
   ]
  },
  {
   "cell_type": "code",
   "execution_count": 65,
   "metadata": {},
   "outputs": [],
   "source": [
    "roc_auc_score = test_embeddings.k_fold_cross_validation_link_prediction(embedding_np, test_edges, y_true, k=5)\n"
   ]
  },
  {
   "cell_type": "code",
   "execution_count": 66,
   "metadata": {},
   "outputs": [
    {
     "name": "stdout",
     "output_type": "stream",
     "text": [
      "ROC AUC Score: 96.1560\n"
     ]
    }
   ],
   "source": [
    "formatted_score = \"{:.4f}\".format(roc_auc_score * 100).replace('.', ',')\n",
    "print(\"ROC AUC Score:\", formatted_score)"
   ]
  }
 ],
 "metadata": {
  "kernelspec": {
   "display_name": "graph_sage_6",
   "language": "python",
   "name": "python3"
  },
  "language_info": {
   "codemirror_mode": {
    "name": "ipython",
    "version": 3
   },
   "file_extension": ".py",
   "mimetype": "text/x-python",
   "name": "python",
   "nbconvert_exporter": "python",
   "pygments_lexer": "ipython3",
   "version": "3.9.18"
  },
  "orig_nbformat": 4
 },
 "nbformat": 4,
 "nbformat_minor": 2
}
