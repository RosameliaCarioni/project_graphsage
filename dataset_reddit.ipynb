{
 "cells": [
  {
   "cell_type": "code",
   "execution_count": 1,
   "metadata": {},
   "outputs": [],
   "source": [
    "import graphsage_experiments\n",
    "from torch_geometric.datasets import Reddit\n",
    "import torch.nn.functional as F\n",
    "import graph_information"
   ]
  },
  {
   "cell_type": "markdown",
   "metadata": {},
   "source": [
    "# Download dataset"
   ]
  },
  {
   "cell_type": "code",
   "execution_count": 2,
   "metadata": {},
   "outputs": [],
   "source": [
    "dataset = Reddit(\"./\")\n",
    "data = dataset[0]"
   ]
  },
  {
   "cell_type": "markdown",
   "metadata": {},
   "source": [
    "# Check details from dataset "
   ]
  },
  {
   "cell_type": "code",
   "execution_count": 4,
   "metadata": {},
   "outputs": [
    {
     "name": "stdout",
     "output_type": "stream",
     "text": [
      "Dataset: Reddit()\n",
      "-------------------\n",
      "Number of graphs: 1\n",
      "Number of nodes: 232965\n",
      "Number of features: 602\n",
      "Number of classes: 41\n",
      "\n",
      "Graph:\n",
      "------\n",
      "Training nodes: 153431\n",
      "Evaluation nodes: 23831\n",
      "Test nodes: 55703\n",
      "Edges are directed: False\n",
      "Graph has isolated nodes: False\n",
      "Graph has loops: False\n"
     ]
    }
   ],
   "source": [
    "graph_information.visualize_information_graph(dataset)"
   ]
  },
  {
   "cell_type": "code",
   "execution_count": null,
   "metadata": {},
   "outputs": [],
   "source": [
    "learning_rate = 0.0001 # variable to change/play around with for experiments --> 0.0001\n",
    "aggregator = 'mean' # variable to change/play around with for experiments\n",
    "\n",
    "epochs = 10\n",
    "dropout_rate = 0.4\n",
    "normalization = True \n",
    "activation_function = F.relu\n",
    "bias = True\n",
    "batch_size =  512\n",
    "neighborhood_1 = 25\n",
    "neighborhood_2 = 10\n",
    "embedding_dimension = 128\n",
    "hidden_layer = 512"
   ]
  },
  {
   "cell_type": "code",
   "execution_count": null,
   "metadata": {},
   "outputs": [],
   "source": [
    "number_features, number_nodes = data.num_features, data.x.shape[0]"
   ]
  },
  {
   "cell_type": "code",
   "execution_count": null,
   "metadata": {},
   "outputs": [],
   "source": [
    "emb_matrix = graphsage_experiments.compute_embedding_matrix(\n",
    "    data = data,\n",
    "    number_features = number_features,\n",
    "    number_nodes = number_nodes,\n",
    "    batch_size = batch_size,\n",
    "    hidden_layer = hidden_layer, \n",
    "    epochs = epochs, \n",
    "    neighborhood_1 = neighborhood_1,\n",
    "    neighborhood_2 = neighborhood_2,\n",
    "    embedding_dimension = embedding_dimension,\n",
    "    learning_rate = learning_rate,\n",
    "    dropout_rate = dropout_rate,\n",
    "    activation_function = activation_function,\n",
    "    aggregator = aggregator,\n",
    "    activation_before_normalization= True,\n",
    "    bias= True,\n",
    "    normalize = normalization,\n",
    ")\n"
   ]
  },
  {
   "cell_type": "code",
   "execution_count": null,
   "metadata": {},
   "outputs": [],
   "source": []
  }
 ],
 "metadata": {
  "kernelspec": {
   "display_name": "graph_sage_6",
   "language": "python",
   "name": "python3"
  },
  "language_info": {
   "codemirror_mode": {
    "name": "ipython",
    "version": 3
   },
   "file_extension": ".py",
   "mimetype": "text/x-python",
   "name": "python",
   "nbconvert_exporter": "python",
   "pygments_lexer": "ipython3",
   "version": "3.9.18"
  },
  "orig_nbformat": 4
 },
 "nbformat": 4,
 "nbformat_minor": 2
}
