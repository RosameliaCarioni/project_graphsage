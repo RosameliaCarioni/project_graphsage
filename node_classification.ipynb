{
 "cells": [
  {
   "attachments": {},
   "cell_type": "markdown",
   "metadata": {},
   "source": [
    "https://github.com/pyg-team/pytorch_geometric/blob/master/examples/graph_sage_unsup.py \n",
    "on CORA dataset"
   ]
  },
  {
   "cell_type": "code",
   "execution_count": null,
   "metadata": {
    "vscode": {
     "languageId": "plaintext"
    }
   },
   "outputs": [],
   "source": [
    "train_loader = NeighborLoader(data, \n",
    "                            input_nodes=data.train_mask,\n",
    "                            num_neighbors=[neighborhood_1, neighborhood_2], \n",
    "                            shuffle=True)\n",
    "\n",
    "# TODO: not sure if subgraph is needed\n",
    "subgraph_loader = NeighborLoader(copy.copy(data), input_nodes=None,\n",
    "                                num_neighbors=[-1], shuffle=False)\n",
    "# No need to maintain these features during evaluation:\n",
    "del subgraph_loader.data.x, subgraph_loader.data.y\n",
    "# Add global node index information.\n",
    "subgraph_loader.data.num_nodes = data.num_nodes\n",
    "subgraph_loader.data.n_id = torch.arange(data.num_nodes)"
   ]
  },
  {
   "cell_type": "code",
   "execution_count": null,
   "metadata": {
    "vscode": {
     "languageId": "plaintext"
    }
   },
   "outputs": [],
   "source": [
    "train_loader = NeighborLoader(data, \n",
    "                            input_nodes=data.train_mask,\n",
    "                            num_neighbors=[neighborhood_1, neighborhood_2], \n",
    "                            shuffle=True)\n",
    "\n",
    "# TODO: not sure if subgraph is needed\n",
    "subgraph_loader = NeighborLoader(copy.copy(data), input_nodes=None,\n",
    "                                num_neighbors=[-1], shuffle=False)\n",
    "# No need to maintain these features during evaluation:\n",
    "del subgraph_loader.data.x, subgraph_loader.data.y\n",
    "# Add global node index information.\n",
    "subgraph_loader.data.num_nodes = data.num_nodes\n",
    "subgraph_loader.data.n_id = torch.arange(data.num_nodes)"
   ]
  }
 ],
 "metadata": {
  "language_info": {
   "name": "python"
  },
  "orig_nbformat": 4
 },
 "nbformat": 4,
 "nbformat_minor": 2
}
