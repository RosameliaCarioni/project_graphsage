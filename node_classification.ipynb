{
 "cells": [
  {
   "attachments": {},
   "cell_type": "markdown",
   "metadata": {},
   "source": [
    "This work is inspired/based in the following work: \n",
    "\n",
    "https://github.com/pyg-team/pytorch_geometric/blob/master/examples/ogbn_products_sage.py\n",
    "\n",
    "https://github.com/PacktPublishing/Hands-On-Graph-Neural-Networks-Using-Python/blob/main/Chapter08/chapter8.ipynb \n",
    "\n",
    "https://github.com/pyg-team/pytorch_geometric/blob/master/examples/graph_sage_unsup.py\n",
    "\n",
    "https://pytorch-geometric.readthedocs.io/en/latest/generated/torch_geometric.nn.conv.SAGEConv.html\n",
    "\n",
    "https://medium.com/@juyi.lin/neighborloader-introduction-ccb870cc7294"
   ]
  },
  {
   "attachments": {},
   "cell_type": "markdown",
   "metadata": {},
   "source": [
    "TODO: add k-fold cross validation "
   ]
  },
  {
   "attachments": {},
   "cell_type": "markdown",
   "metadata": {},
   "source": [
    "# Imports"
   ]
  },
  {
   "cell_type": "code",
   "execution_count": 3,
   "metadata": {},
   "outputs": [],
   "source": [
    "import torch\n",
    "from torch_geometric.datasets import Reddit\n",
    "from torch_geometric.datasets import Planetoid\n",
    "from torch_geometric.nn import SAGEConv\n",
    "import torch.nn.functional as F\n",
    "from torch_geometric.loader import NeighborLoader\n",
    "import time\n",
    "from sklearn.metrics import f1_score \n",
    "import graph_handler\n",
    "import graph_sage_node_classification"
   ]
  },
  {
   "cell_type": "code",
   "execution_count": 4,
   "metadata": {},
   "outputs": [],
   "source": [
    "if torch.backends.mps.is_available() and False:\n",
    "    device = torch.device(\"mps\")\n",
    "    x = torch.ones(1, device=device)\n",
    "    print (x)\n",
    "else:\n",
    "    device = torch.device('cpu')"
   ]
  },
  {
   "attachments": {},
   "cell_type": "markdown",
   "metadata": {},
   "source": [
    "# Read in Data: CORA - small version "
   ]
  },
  {
   "cell_type": "code",
   "execution_count": 5,
   "metadata": {},
   "outputs": [],
   "source": [
    "dataset = Planetoid(root='/tmp/Cora', name='Cora')\n",
    "data = dataset[0]\n",
    "data = data.to(device)"
   ]
  },
  {
   "attachments": {},
   "cell_type": "markdown",
   "metadata": {},
   "source": [
    "## Visualize Information from graph"
   ]
  },
  {
   "cell_type": "code",
   "execution_count": 6,
   "metadata": {},
   "outputs": [
    {
     "name": "stdout",
     "output_type": "stream",
     "text": [
      "Dataset: Cora()\n",
      "-------------------\n",
      "Number of graphs: 1\n",
      "Number of nodes: 2708\n",
      "Number of features: 1433\n",
      "Number of classes: 7\n",
      "\n",
      "Graph:\n",
      "------\n",
      "Training nodes: 140\n",
      "Evaluation nodes: 500\n",
      "Test nodes: 1000\n",
      "Edges are directed: False\n",
      "Graph has isolated nodes: False\n",
      "Graph has loops: False\n"
     ]
    }
   ],
   "source": [
    "graph_handler.visualize_information_graph(dataset)"
   ]
  },
  {
   "cell_type": "markdown",
   "metadata": {},
   "source": [
    "# Hyperparameters"
   ]
  },
  {
   "cell_type": "code",
   "execution_count": 7,
   "metadata": {},
   "outputs": [],
   "source": [
    "# VARIABLES TO CHANGE FOR EXPERIMENTS \n",
    "learning_rate = 0.01 # variable to change/play around with for experiments --> 0.0001\n",
    "aggregator = 'mean' # variable to change/play around with for experiments\n",
    "\n",
    "# FIXED PARAMETERS\n",
    "epochs = 10\n",
    "dropout_rate = 0.4\n",
    "normalization = True\n",
    "activation_function = True\n",
    "bias = True\n",
    "batch =  512\n",
    "neighborhood_1 = 25\n",
    "neighborhood_2 = 10\n",
    "embedding_dimension = 128"
   ]
  },
  {
   "attachments": {},
   "cell_type": "markdown",
   "metadata": {},
   "source": [
    "# NeighborLoader = Sampling from graph "
   ]
  },
  {
   "cell_type": "code",
   "execution_count": 8,
   "metadata": {},
   "outputs": [],
   "source": [
    "train_loader = NeighborLoader(data, \n",
    "                            input_nodes=data.train_mask, # ensure that the sampling only happens in the training set \n",
    "                            batch_size = batch,\n",
    "                            num_neighbors=[neighborhood_1, neighborhood_2], \n",
    "                            shuffle=True)"
   ]
  },
  {
   "attachments": {},
   "cell_type": "markdown",
   "metadata": {},
   "source": [
    "# Training model and obtaining results "
   ]
  },
  {
   "attachments": {},
   "cell_type": "markdown",
   "metadata": {},
   "source": [
    "# 1. Create model for node classification\n"
   ]
  },
  {
   "cell_type": "code",
   "execution_count": 9,
   "metadata": {},
   "outputs": [
    {
     "name": "stdout",
     "output_type": "stream",
     "text": [
      "GraphSAGE_local(\n",
      "  (conv1): SAGEConv(1433, 128, aggr=mean)\n",
      "  (conv2): SAGEConv(128, 7, aggr=mean)\n",
      ")\n"
     ]
    }
   ],
   "source": [
    "labels_all_nodes = data.y\n",
    "number_classes  = labels_all_nodes.unique().size(0)\n",
    "\n",
    "model = graph_sage_node_classification.GraphSAGE_local(in_channels = data.num_node_features,\n",
    "                  hidden_channels= embedding_dimension,\n",
    "                  out_channels = number_classes,\n",
    "                  dropout= dropout_rate,\n",
    "                  aggr = aggregator,\n",
    "                  normalization = normalization,\n",
    "                  activation_function = activation_function,\n",
    "                  bias = bias)\n",
    "model.to(device)\n",
    "print(model)"
   ]
  },
  {
   "attachments": {},
   "cell_type": "markdown",
   "metadata": {},
   "source": [
    "# 2. Training mdel for certain number of epochs and testing it "
   ]
  },
  {
   "cell_type": "code",
   "execution_count": 10,
   "metadata": {},
   "outputs": [
    {
     "name": "stdout",
     "output_type": "stream",
     "text": [
      "Epoch   0 | Train Loss: 1.956 | Train Acc:  11.43% | Val Loss: 1.95 | Val Acc: 13.48%\n",
      "Epoch   1 | Train Loss: 1.912 | Train Acc:  17.86% | Val Loss: 1.94 | Val Acc: 23.21%\n",
      "Epoch   2 | Train Loss: 2.819 | Train Acc:  14.29% | Val Loss: 2.26 | Val Acc: 20.78%\n",
      "Epoch   3 | Train Loss: 1.883 | Train Acc:  21.43% | Val Loss: 1.92 | Val Acc: 26.84%\n",
      "Epoch   4 | Train Loss: 1.891 | Train Acc:  26.43% | Val Loss: 1.94 | Val Acc: 22.94%\n",
      "Epoch   5 | Train Loss: 1.861 | Train Acc:  22.14% | Val Loss: 1.93 | Val Acc: 26.07%\n",
      "Epoch   6 | Train Loss: 1.764 | Train Acc:  28.57% | Val Loss: 1.92 | Val Acc: 25.00%\n",
      "Epoch   7 | Train Loss: 1.721 | Train Acc:  28.57% | Val Loss: 1.90 | Val Acc: 27.16%\n",
      "Epoch   8 | Train Loss: 1.605 | Train Acc:  36.43% | Val Loss: 1.86 | Val Acc: 33.76%\n",
      "Epoch   9 | Train Loss: 1.502 | Train Acc:  40.00% | Val Loss: 1.81 | Val Acc: 37.50%\n",
      "Epoch  10 | Train Loss: 1.473 | Train Acc:  37.86% | Val Loss: 1.77 | Val Acc: 34.19%\n",
      "Median time per epoch: 0.0350s\n"
     ]
    }
   ],
   "source": [
    "model.fit(train_loader, epochs, learning_rate, device)\n"
   ]
  },
  {
   "attachments": {},
   "cell_type": "markdown",
   "metadata": {},
   "source": [
    "## 3. Calculate accuracy and F-1 score on test data\n"
   ]
  },
  {
   "cell_type": "code",
   "execution_count": 11,
   "metadata": {},
   "outputs": [
    {
     "name": "stdout",
     "output_type": "stream",
     "text": [
      "Model accuarcy: 52.50%\n",
      "Model f1 Macro: 0.35%\n",
      "Model f1 Micro: 0.53%\n"
     ]
    }
   ],
   "source": [
    "acc, f1_macro, f1_micro = model.test(data)\n",
    "print(f'Model accuarcy: {acc*100:.2f}%' )\n",
    "print(f'Model f1 Macro: {f1_macro:.2f}%' )\n",
    "print(f'Model f1 Micro: {f1_micro:.2f}%' )"
   ]
  },
  {
   "cell_type": "code",
   "execution_count": null,
   "metadata": {},
   "outputs": [],
   "source": []
  }
 ],
 "metadata": {
  "kernelspec": {
   "display_name": "graph_sage_6",
   "language": "python",
   "name": "python3"
  },
  "language_info": {
   "codemirror_mode": {
    "name": "ipython",
    "version": 3
   },
   "file_extension": ".py",
   "mimetype": "text/x-python",
   "name": "python",
   "nbconvert_exporter": "python",
   "pygments_lexer": "ipython3",
   "version": "3.9.18"
  },
  "orig_nbformat": 4
 },
 "nbformat": 4,
 "nbformat_minor": 2
}
